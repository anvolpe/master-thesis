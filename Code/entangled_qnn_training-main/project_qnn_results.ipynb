{
 "cells": [
  {
   "cell_type": "code",
   "execution_count": 1,
   "metadata": {},
   "outputs": [
    {
     "name": "stdout",
     "output_type": "stream",
     "text": [
      "starting\n",
      "done\n"
     ]
    }
   ],
   "source": [
    "# imports\n",
    "%load_ext autoreload\n",
    "%autoreload 2\n",
    "import time\n",
    "from timeit import default_timer as timer\n",
    "from victor_thesis_experiments_testing import *\n",
    "from project_qnn_analysis import *\n",
    "import os\n",
    "\n",
    "# needed since working directory for .py files is for some reason NOT \"qnn-experiments/Code/entangled_qnn_training-main\", but just \"qnn-experiments\"\n",
    "# insert you own absolute path for this notebook to compile correctly.\n",
    "os.chdir(\"/Users/alina/qnn-experiments/\")\n"
   ]
  },
  {
   "cell_type": "code",
   "execution_count": null,
   "metadata": {},
   "outputs": [],
   "source": [
    "# compute average and range (min, max) increase in achieved function value per increase of Schmidt-Rank\n",
    "# over all datatypes and number of data points\n"
   ]
  }
 ],
 "metadata": {
  "kernelspec": {
   "display_name": "Python 3 (ipykernel)",
   "language": "python",
   "name": "python3"
  },
  "language_info": {
   "codemirror_mode": {
    "name": "ipython",
    "version": 3
   },
   "file_extension": ".py",
   "mimetype": "text/x-python",
   "name": "python",
   "nbconvert_exporter": "python",
   "pygments_lexer": "ipython3",
   "version": "3.11.7"
  },
  "vscode": {
   "interpreter": {
    "hash": "e6822839c80bb80c42f7f9e096efdd447a89633a8e8a553b5cfb2012f3a4eafe"
   }
  }
 },
 "nbformat": 4,
 "nbformat_minor": 4
}
