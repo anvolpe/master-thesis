{
 "cells": [
  {
   "cell_type": "code",
   "execution_count": 1,
   "metadata": {
    "colab": {
     "base_uri": "https://localhost:8080/"
    },
    "id": "sqU9qlVXTS0r",
    "outputId": "8d19f792-1679-448b-c0c1-d03dfcf077b2"
   },
   "outputs": [
    {
     "name": "stdout",
     "output_type": "stream",
     "text": [
      "Collecting qiskit==0.46.1\n",
      "  Downloading qiskit-0.46.1-py3-none-any.whl.metadata (12 kB)\n",
      "Collecting qiskit-terra==0.46.1 (from qiskit==0.46.1)\n",
      "  Downloading qiskit_terra-0.46.1-cp38-abi3-macosx_11_0_arm64.whl.metadata (12 kB)\n",
      "Collecting rustworkx>=0.13.0 (from qiskit-terra==0.46.1->qiskit==0.46.1)\n",
      "  Downloading rustworkx-0.14.2-cp311-cp311-macosx_11_0_arm64.whl.metadata (10.0 kB)\n",
      "Requirement already satisfied: numpy<2,>=1.17 in /opt/anaconda3/lib/python3.11/site-packages (from qiskit-terra==0.46.1->qiskit==0.46.1) (1.26.4)\n",
      "Requirement already satisfied: ply>=3.10 in /opt/anaconda3/lib/python3.11/site-packages (from qiskit-terra==0.46.1->qiskit==0.46.1) (3.11)\n",
      "Requirement already satisfied: psutil>=5 in /opt/anaconda3/lib/python3.11/site-packages (from qiskit-terra==0.46.1->qiskit==0.46.1) (5.9.0)\n",
      "Requirement already satisfied: scipy>=1.5 in /opt/anaconda3/lib/python3.11/site-packages (from qiskit-terra==0.46.1->qiskit==0.46.1) (1.11.4)\n",
      "Requirement already satisfied: sympy>=1.3 in /opt/anaconda3/lib/python3.11/site-packages (from qiskit-terra==0.46.1->qiskit==0.46.1) (1.12)\n",
      "Requirement already satisfied: dill>=0.3 in /opt/anaconda3/lib/python3.11/site-packages (from qiskit-terra==0.46.1->qiskit==0.46.1) (0.3.7)\n",
      "Requirement already satisfied: python-dateutil>=2.8.0 in /opt/anaconda3/lib/python3.11/site-packages (from qiskit-terra==0.46.1->qiskit==0.46.1) (2.8.2)\n",
      "Collecting stevedore>=3.0.0 (from qiskit-terra==0.46.1->qiskit==0.46.1)\n",
      "  Downloading stevedore-5.2.0-py3-none-any.whl.metadata (2.3 kB)\n",
      "Collecting symengine>=0.11 (from qiskit-terra==0.46.1->qiskit==0.46.1)\n",
      "  Downloading symengine-0.11.0-cp311-cp311-macosx_11_0_arm64.whl.metadata (1.2 kB)\n",
      "Requirement already satisfied: six>=1.5 in /opt/anaconda3/lib/python3.11/site-packages (from python-dateutil>=2.8.0->qiskit-terra==0.46.1->qiskit==0.46.1) (1.16.0)\n",
      "Collecting pbr!=2.1.0,>=2.0.0 (from stevedore>=3.0.0->qiskit-terra==0.46.1->qiskit==0.46.1)\n",
      "  Downloading pbr-6.0.0-py2.py3-none-any.whl.metadata (1.3 kB)\n",
      "Requirement already satisfied: mpmath>=0.19 in /opt/anaconda3/lib/python3.11/site-packages (from sympy>=1.3->qiskit-terra==0.46.1->qiskit==0.46.1) (1.3.0)\n",
      "Downloading qiskit-0.46.1-py3-none-any.whl (9.6 kB)\n",
      "Downloading qiskit_terra-0.46.1-cp38-abi3-macosx_11_0_arm64.whl (5.4 MB)\n",
      "\u001b[2K   \u001b[90m━━━━━━━━━━━━━━━━━━━━━━━━━━━━━━━━━━━━━━━━\u001b[0m \u001b[32m5.4/5.4 MB\u001b[0m \u001b[31m28.9 MB/s\u001b[0m eta \u001b[36m0:00:00\u001b[0m00:01\u001b[0m00:01\u001b[0m\n",
      "\u001b[?25hDownloading rustworkx-0.14.2-cp311-cp311-macosx_11_0_arm64.whl (1.7 MB)\n",
      "\u001b[2K   \u001b[90m━━━━━━━━━━━━━━━━━━━━━━━━━━━━━━━━━━━━━━━━\u001b[0m \u001b[32m1.7/1.7 MB\u001b[0m \u001b[31m29.7 MB/s\u001b[0m eta \u001b[36m0:00:00\u001b[0ma \u001b[36m0:00:01\u001b[0m\n",
      "\u001b[?25hDownloading stevedore-5.2.0-py3-none-any.whl (49 kB)\n",
      "\u001b[2K   \u001b[90m━━━━━━━━━━━━━━━━━━━━━━━━━━━━━━━━━━━━━━━━\u001b[0m \u001b[32m49.7/49.7 kB\u001b[0m \u001b[31m2.2 MB/s\u001b[0m eta \u001b[36m0:00:00\u001b[0m\n",
      "\u001b[?25hDownloading symengine-0.11.0-cp311-cp311-macosx_11_0_arm64.whl (20.6 MB)\n",
      "\u001b[2K   \u001b[90m━━━━━━━━━━━━━━━━━━━━━━━━━━━━━━━━━━━━━━━━\u001b[0m \u001b[32m20.6/20.6 MB\u001b[0m \u001b[31m23.3 MB/s\u001b[0m eta \u001b[36m0:00:00\u001b[0m00:01\u001b[0m00:01\u001b[0m\n",
      "\u001b[?25hDownloading pbr-6.0.0-py2.py3-none-any.whl (107 kB)\n",
      "\u001b[2K   \u001b[90m━━━━━━━━━━━━━━━━━━━━━━━━━━━━━━━━━━━━━━━━\u001b[0m \u001b[32m107.5/107.5 kB\u001b[0m \u001b[31m10.8 MB/s\u001b[0m eta \u001b[36m0:00:00\u001b[0m\n",
      "\u001b[?25hInstalling collected packages: symengine, rustworkx, pbr, stevedore, qiskit-terra, qiskit\n",
      "Successfully installed pbr-6.0.0 qiskit-0.46.1 qiskit-terra-0.46.1 rustworkx-0.14.2 stevedore-5.2.0 symengine-0.11.0\n",
      "Note: you may need to restart the kernel to use updated packages.\n"
     ]
    }
   ],
   "source": [
    "pip install qiskit==0.46.1\n"
   ]
  },
  {
   "cell_type": "code",
   "execution_count": 2,
   "metadata": {
    "colab": {
     "base_uri": "https://localhost:8080/"
    },
    "id": "Jl6ise0dTXxQ",
    "outputId": "48e4545d-c71d-48c8-d3c5-bc32a18fec5b"
   },
   "outputs": [
    {
     "name": "stdout",
     "output_type": "stream",
     "text": [
      "Collecting qiskit-aer==0.14.1\n",
      "  Downloading qiskit_aer-0.14.1-cp311-cp311-macosx_11_0_arm64.whl.metadata (8.0 kB)\n",
      "Requirement already satisfied: qiskit>=0.45.0 in /opt/anaconda3/lib/python3.11/site-packages (from qiskit-aer==0.14.1) (0.46.1)\n",
      "Requirement already satisfied: numpy>=1.16.3 in /opt/anaconda3/lib/python3.11/site-packages (from qiskit-aer==0.14.1) (1.26.4)\n",
      "Requirement already satisfied: scipy>=1.0 in /opt/anaconda3/lib/python3.11/site-packages (from qiskit-aer==0.14.1) (1.11.4)\n",
      "Requirement already satisfied: psutil>=5 in /opt/anaconda3/lib/python3.11/site-packages (from qiskit-aer==0.14.1) (5.9.0)\n",
      "Requirement already satisfied: qiskit-terra==0.46.1 in /opt/anaconda3/lib/python3.11/site-packages (from qiskit>=0.45.0->qiskit-aer==0.14.1) (0.46.1)\n",
      "Requirement already satisfied: rustworkx>=0.13.0 in /opt/anaconda3/lib/python3.11/site-packages (from qiskit-terra==0.46.1->qiskit>=0.45.0->qiskit-aer==0.14.1) (0.14.2)\n",
      "Requirement already satisfied: ply>=3.10 in /opt/anaconda3/lib/python3.11/site-packages (from qiskit-terra==0.46.1->qiskit>=0.45.0->qiskit-aer==0.14.1) (3.11)\n",
      "Requirement already satisfied: sympy>=1.3 in /opt/anaconda3/lib/python3.11/site-packages (from qiskit-terra==0.46.1->qiskit>=0.45.0->qiskit-aer==0.14.1) (1.12)\n",
      "Requirement already satisfied: dill>=0.3 in /opt/anaconda3/lib/python3.11/site-packages (from qiskit-terra==0.46.1->qiskit>=0.45.0->qiskit-aer==0.14.1) (0.3.7)\n",
      "Requirement already satisfied: python-dateutil>=2.8.0 in /opt/anaconda3/lib/python3.11/site-packages (from qiskit-terra==0.46.1->qiskit>=0.45.0->qiskit-aer==0.14.1) (2.8.2)\n",
      "Requirement already satisfied: stevedore>=3.0.0 in /opt/anaconda3/lib/python3.11/site-packages (from qiskit-terra==0.46.1->qiskit>=0.45.0->qiskit-aer==0.14.1) (5.2.0)\n",
      "Requirement already satisfied: symengine>=0.11 in /opt/anaconda3/lib/python3.11/site-packages (from qiskit-terra==0.46.1->qiskit>=0.45.0->qiskit-aer==0.14.1) (0.11.0)\n",
      "Requirement already satisfied: six>=1.5 in /opt/anaconda3/lib/python3.11/site-packages (from python-dateutil>=2.8.0->qiskit-terra==0.46.1->qiskit>=0.45.0->qiskit-aer==0.14.1) (1.16.0)\n",
      "Requirement already satisfied: pbr!=2.1.0,>=2.0.0 in /opt/anaconda3/lib/python3.11/site-packages (from stevedore>=3.0.0->qiskit-terra==0.46.1->qiskit>=0.45.0->qiskit-aer==0.14.1) (6.0.0)\n",
      "Requirement already satisfied: mpmath>=0.19 in /opt/anaconda3/lib/python3.11/site-packages (from sympy>=1.3->qiskit-terra==0.46.1->qiskit>=0.45.0->qiskit-aer==0.14.1) (1.3.0)\n",
      "Downloading qiskit_aer-0.14.1-cp311-cp311-macosx_11_0_arm64.whl (2.2 MB)\n",
      "\u001b[2K   \u001b[90m━━━━━━━━━━━━━━━━━━━━━━━━━━━━━━━━━━━━━━━━\u001b[0m \u001b[32m2.2/2.2 MB\u001b[0m \u001b[31m16.1 MB/s\u001b[0m eta \u001b[36m0:00:00\u001b[0ma \u001b[36m0:00:01\u001b[0m\n",
      "\u001b[?25hInstalling collected packages: qiskit-aer\n",
      "Successfully installed qiskit-aer-0.14.1\n",
      "Note: you may need to restart the kernel to use updated packages.\n"
     ]
    }
   ],
   "source": [
    "pip install qiskit-aer==0.14.1\n"
   ]
  },
  {
   "cell_type": "code",
   "execution_count": 3,
   "metadata": {
    "colab": {
     "base_uri": "https://localhost:8080/"
    },
    "id": "1HAGWcv4T7Vo",
    "outputId": "bdedceca-bc77-4921-fc1e-4a928f0dbced"
   },
   "outputs": [
    {
     "name": "stdout",
     "output_type": "stream",
     "text": [
      "Requirement already satisfied: qiskit-terra==0.46.1 in /opt/anaconda3/lib/python3.11/site-packages (0.46.1)\n",
      "Requirement already satisfied: rustworkx>=0.13.0 in /opt/anaconda3/lib/python3.11/site-packages (from qiskit-terra==0.46.1) (0.14.2)\n",
      "Requirement already satisfied: numpy<2,>=1.17 in /opt/anaconda3/lib/python3.11/site-packages (from qiskit-terra==0.46.1) (1.26.4)\n",
      "Requirement already satisfied: ply>=3.10 in /opt/anaconda3/lib/python3.11/site-packages (from qiskit-terra==0.46.1) (3.11)\n",
      "Requirement already satisfied: psutil>=5 in /opt/anaconda3/lib/python3.11/site-packages (from qiskit-terra==0.46.1) (5.9.0)\n",
      "Requirement already satisfied: scipy>=1.5 in /opt/anaconda3/lib/python3.11/site-packages (from qiskit-terra==0.46.1) (1.11.4)\n",
      "Requirement already satisfied: sympy>=1.3 in /opt/anaconda3/lib/python3.11/site-packages (from qiskit-terra==0.46.1) (1.12)\n",
      "Requirement already satisfied: dill>=0.3 in /opt/anaconda3/lib/python3.11/site-packages (from qiskit-terra==0.46.1) (0.3.7)\n",
      "Requirement already satisfied: python-dateutil>=2.8.0 in /opt/anaconda3/lib/python3.11/site-packages (from qiskit-terra==0.46.1) (2.8.2)\n",
      "Requirement already satisfied: stevedore>=3.0.0 in /opt/anaconda3/lib/python3.11/site-packages (from qiskit-terra==0.46.1) (5.2.0)\n",
      "Requirement already satisfied: symengine>=0.11 in /opt/anaconda3/lib/python3.11/site-packages (from qiskit-terra==0.46.1) (0.11.0)\n",
      "Requirement already satisfied: six>=1.5 in /opt/anaconda3/lib/python3.11/site-packages (from python-dateutil>=2.8.0->qiskit-terra==0.46.1) (1.16.0)\n",
      "Requirement already satisfied: pbr!=2.1.0,>=2.0.0 in /opt/anaconda3/lib/python3.11/site-packages (from stevedore>=3.0.0->qiskit-terra==0.46.1) (6.0.0)\n",
      "Requirement already satisfied: mpmath>=0.19 in /opt/anaconda3/lib/python3.11/site-packages (from sympy>=1.3->qiskit-terra==0.46.1) (1.3.0)\n",
      "Note: you may need to restart the kernel to use updated packages.\n"
     ]
    }
   ],
   "source": [
    "pip install qiskit-terra==0.46.1\n"
   ]
  },
  {
   "cell_type": "code",
   "execution_count": 4,
   "metadata": {
    "colab": {
     "base_uri": "https://localhost:8080/"
    },
    "id": "DaCum9xfT_Y8",
    "outputId": "e5647ba4-3485-4e38-99bd-85dd480a6130"
   },
   "outputs": [
    {
     "name": "stdout",
     "output_type": "stream",
     "text": [
      "Requirement already satisfied: scipy==1.11.4 in /opt/anaconda3/lib/python3.11/site-packages (1.11.4)\n",
      "Requirement already satisfied: numpy<1.28.0,>=1.21.6 in /opt/anaconda3/lib/python3.11/site-packages (from scipy==1.11.4) (1.26.4)\n",
      "Note: you may need to restart the kernel to use updated packages.\n"
     ]
    }
   ],
   "source": [
    "pip install scipy==1.11.4"
   ]
  },
  {
   "cell_type": "code",
   "execution_count": 5,
   "metadata": {
    "colab": {
     "base_uri": "https://localhost:8080/"
    },
    "id": "dxjuv-WEUG9m",
    "outputId": "93e2201c-2efc-4477-9be6-7d71742d0070"
   },
   "outputs": [
    {
     "name": "stderr",
     "output_type": "stream",
     "text": [
      "/var/folders/sx/5fkfsh9s4xsg76n37nm652pm0000gn/T/ipykernel_20408/23137701.py:7: DeprecationWarning: The ``qiskit.opflow`` module is deprecated as of qiskit-terra 0.24.0. It will be removed in Qiskit 1.0. For code migration guidelines, visit https://qisk.it/opflow_migration.\n",
      "  from qiskit.opflow.primitive_ops import PauliSumOp\n",
      "/var/folders/sx/5fkfsh9s4xsg76n37nm652pm0000gn/T/ipykernel_20408/23137701.py:8: DeprecationWarning: ``qiskit.algorithms`` has been migrated to an independent package: https://github.com/qiskit-community/qiskit-algorithms. The ``qiskit.algorithms`` import path is deprecated as of qiskit-terra 0.25.0 and will be removed in Qiskit 1.0. Please run ``pip install qiskit_algorithms`` and use ``import qiskit_algorithms`` instead.\n",
      "  from qiskit.algorithms import VQE\n"
     ]
    },
    {
     "name": "stdout",
     "output_type": "stream",
     "text": [
      "[-0.64862909  0.24389273 -0.50771584  1.16376844 -1.85698128  2.37578192\n",
      " -2.96951133  1.07107896 -0.51958925  0.36875907 -2.2595155  -1.89688429]\n"
     ]
    },
    {
     "name": "stderr",
     "output_type": "stream",
     "text": [
      "/var/folders/sx/5fkfsh9s4xsg76n37nm652pm0000gn/T/ipykernel_20408/23137701.py:175: DeprecationWarning: The 'qiskit.Aer' entry point is deprecated and will be removed in Qiskit 1.0. You should use 'qiskit_aer.Aer' directly instead.\n",
      "  backend = Aer.get_backend(\"statevector_simulator\")\n",
      "/var/folders/sx/5fkfsh9s4xsg76n37nm652pm0000gn/T/ipykernel_20408/23137701.py:179: DeprecationWarning: The function ``qiskit.execute_function.execute()`` is deprecated as of qiskit 0.46.0. It will be removed in the Qiskit 1.0 release. This function combines ``transpile`` and ``backend.run``, which is covered by ``Sampler`` :mod:`~qiskit.primitives`. Alternatively, you can also run :func:`.transpile` followed by ``backend.run()``.\n",
      "  job = execute(final_meas_circuits, backend=backend, shots=1, seed_transpiler=seed, seed_simulator=seed)\n"
     ]
    },
    {
     "name": "stdout",
     "output_type": "stream",
     "text": [
      "ACAE fidelity -0.292962166415385\n"
     ]
    },
    {
     "name": "stderr",
     "output_type": "stream",
     "text": [
      "/var/folders/sx/5fkfsh9s4xsg76n37nm652pm0000gn/T/ipykernel_20408/23137701.py:179: DeprecationWarning: The function ``qiskit.execute_function.execute()`` is deprecated as of qiskit 0.46.0. It will be removed in the Qiskit 1.0 release. This function combines ``transpile`` and ``backend.run``, which is covered by ``Sampler`` :mod:`~qiskit.primitives`. Alternatively, you can also run :func:`.transpile` followed by ``backend.run()``.\n",
      "  job = execute(final_meas_circuits, backend=backend, shots=1, seed_transpiler=seed, seed_simulator=seed)\n"
     ]
    },
    {
     "name": "stdout",
     "output_type": "stream",
     "text": [
      "ACAE fidelity -0.27143614234706354\n"
     ]
    },
    {
     "name": "stderr",
     "output_type": "stream",
     "text": [
      "/var/folders/sx/5fkfsh9s4xsg76n37nm652pm0000gn/T/ipykernel_20408/23137701.py:179: DeprecationWarning: The function ``qiskit.execute_function.execute()`` is deprecated as of qiskit 0.46.0. It will be removed in the Qiskit 1.0 release. This function combines ``transpile`` and ``backend.run``, which is covered by ``Sampler`` :mod:`~qiskit.primitives`. Alternatively, you can also run :func:`.transpile` followed by ``backend.run()``.\n",
      "  job = execute(final_meas_circuits, backend=backend, shots=1, seed_transpiler=seed, seed_simulator=seed)\n"
     ]
    },
    {
     "name": "stdout",
     "output_type": "stream",
     "text": [
      "ACAE fidelity -0.3156140782325186\n"
     ]
    },
    {
     "name": "stderr",
     "output_type": "stream",
     "text": [
      "/var/folders/sx/5fkfsh9s4xsg76n37nm652pm0000gn/T/ipykernel_20408/23137701.py:179: DeprecationWarning: The function ``qiskit.execute_function.execute()`` is deprecated as of qiskit 0.46.0. It will be removed in the Qiskit 1.0 release. This function combines ``transpile`` and ``backend.run``, which is covered by ``Sampler`` :mod:`~qiskit.primitives`. Alternatively, you can also run :func:`.transpile` followed by ``backend.run()``.\n",
      "  job = execute(final_meas_circuits, backend=backend, shots=1, seed_transpiler=seed, seed_simulator=seed)\n"
     ]
    },
    {
     "name": "stdout",
     "output_type": "stream",
     "text": [
      "ACAE fidelity -0.3304766780003695\n"
     ]
    },
    {
     "name": "stderr",
     "output_type": "stream",
     "text": [
      "/var/folders/sx/5fkfsh9s4xsg76n37nm652pm0000gn/T/ipykernel_20408/23137701.py:179: DeprecationWarning: The function ``qiskit.execute_function.execute()`` is deprecated as of qiskit 0.46.0. It will be removed in the Qiskit 1.0 release. This function combines ``transpile`` and ``backend.run``, which is covered by ``Sampler`` :mod:`~qiskit.primitives`. Alternatively, you can also run :func:`.transpile` followed by ``backend.run()``.\n",
      "  job = execute(final_meas_circuits, backend=backend, shots=1, seed_transpiler=seed, seed_simulator=seed)\n"
     ]
    },
    {
     "name": "stdout",
     "output_type": "stream",
     "text": [
      "ACAE fidelity -0.2845343615392818\n"
     ]
    },
    {
     "name": "stderr",
     "output_type": "stream",
     "text": [
      "/var/folders/sx/5fkfsh9s4xsg76n37nm652pm0000gn/T/ipykernel_20408/23137701.py:179: DeprecationWarning: The function ``qiskit.execute_function.execute()`` is deprecated as of qiskit 0.46.0. It will be removed in the Qiskit 1.0 release. This function combines ``transpile`` and ``backend.run``, which is covered by ``Sampler`` :mod:`~qiskit.primitives`. Alternatively, you can also run :func:`.transpile` followed by ``backend.run()``.\n",
      "  job = execute(final_meas_circuits, backend=backend, shots=1, seed_transpiler=seed, seed_simulator=seed)\n"
     ]
    },
    {
     "name": "stdout",
     "output_type": "stream",
     "text": [
      "ACAE fidelity -0.2950102995471078\n"
     ]
    },
    {
     "name": "stderr",
     "output_type": "stream",
     "text": [
      "/var/folders/sx/5fkfsh9s4xsg76n37nm652pm0000gn/T/ipykernel_20408/23137701.py:179: DeprecationWarning: The function ``qiskit.execute_function.execute()`` is deprecated as of qiskit 0.46.0. It will be removed in the Qiskit 1.0 release. This function combines ``transpile`` and ``backend.run``, which is covered by ``Sampler`` :mod:`~qiskit.primitives`. Alternatively, you can also run :func:`.transpile` followed by ``backend.run()``.\n",
      "  job = execute(final_meas_circuits, backend=backend, shots=1, seed_transpiler=seed, seed_simulator=seed)\n"
     ]
    },
    {
     "name": "stdout",
     "output_type": "stream",
     "text": [
      "ACAE fidelity -0.34258074343246314\n"
     ]
    },
    {
     "name": "stderr",
     "output_type": "stream",
     "text": [
      "/var/folders/sx/5fkfsh9s4xsg76n37nm652pm0000gn/T/ipykernel_20408/23137701.py:179: DeprecationWarning: The function ``qiskit.execute_function.execute()`` is deprecated as of qiskit 0.46.0. It will be removed in the Qiskit 1.0 release. This function combines ``transpile`` and ``backend.run``, which is covered by ``Sampler`` :mod:`~qiskit.primitives`. Alternatively, you can also run :func:`.transpile` followed by ``backend.run()``.\n",
      "  job = execute(final_meas_circuits, backend=backend, shots=1, seed_transpiler=seed, seed_simulator=seed)\n"
     ]
    },
    {
     "name": "stdout",
     "output_type": "stream",
     "text": [
      "ACAE fidelity -0.3327338933232457\n"
     ]
    },
    {
     "name": "stderr",
     "output_type": "stream",
     "text": [
      "/var/folders/sx/5fkfsh9s4xsg76n37nm652pm0000gn/T/ipykernel_20408/23137701.py:179: DeprecationWarning: The function ``qiskit.execute_function.execute()`` is deprecated as of qiskit 0.46.0. It will be removed in the Qiskit 1.0 release. This function combines ``transpile`` and ``backend.run``, which is covered by ``Sampler`` :mod:`~qiskit.primitives`. Alternatively, you can also run :func:`.transpile` followed by ``backend.run()``.\n",
      "  job = execute(final_meas_circuits, backend=backend, shots=1, seed_transpiler=seed, seed_simulator=seed)\n"
     ]
    },
    {
     "name": "stdout",
     "output_type": "stream",
     "text": [
      "ACAE fidelity -0.3437434143817425\n"
     ]
    },
    {
     "name": "stderr",
     "output_type": "stream",
     "text": [
      "/var/folders/sx/5fkfsh9s4xsg76n37nm652pm0000gn/T/ipykernel_20408/23137701.py:179: DeprecationWarning: The function ``qiskit.execute_function.execute()`` is deprecated as of qiskit 0.46.0. It will be removed in the Qiskit 1.0 release. This function combines ``transpile`` and ``backend.run``, which is covered by ``Sampler`` :mod:`~qiskit.primitives`. Alternatively, you can also run :func:`.transpile` followed by ``backend.run()``.\n",
      "  job = execute(final_meas_circuits, backend=backend, shots=1, seed_transpiler=seed, seed_simulator=seed)\n"
     ]
    },
    {
     "name": "stdout",
     "output_type": "stream",
     "text": [
      "ACAE fidelity -0.29147701923316527\n"
     ]
    },
    {
     "name": "stderr",
     "output_type": "stream",
     "text": [
      "/var/folders/sx/5fkfsh9s4xsg76n37nm652pm0000gn/T/ipykernel_20408/23137701.py:179: DeprecationWarning: The function ``qiskit.execute_function.execute()`` is deprecated as of qiskit 0.46.0. It will be removed in the Qiskit 1.0 release. This function combines ``transpile`` and ``backend.run``, which is covered by ``Sampler`` :mod:`~qiskit.primitives`. Alternatively, you can also run :func:`.transpile` followed by ``backend.run()``.\n",
      "  job = execute(final_meas_circuits, backend=backend, shots=1, seed_transpiler=seed, seed_simulator=seed)\n"
     ]
    },
    {
     "name": "stdout",
     "output_type": "stream",
     "text": [
      "ACAE fidelity -0.3374298445864676\n"
     ]
    },
    {
     "name": "stderr",
     "output_type": "stream",
     "text": [
      "/var/folders/sx/5fkfsh9s4xsg76n37nm652pm0000gn/T/ipykernel_20408/23137701.py:179: DeprecationWarning: The function ``qiskit.execute_function.execute()`` is deprecated as of qiskit 0.46.0. It will be removed in the Qiskit 1.0 release. This function combines ``transpile`` and ``backend.run``, which is covered by ``Sampler`` :mod:`~qiskit.primitives`. Alternatively, you can also run :func:`.transpile` followed by ``backend.run()``.\n",
      "  job = execute(final_meas_circuits, backend=backend, shots=1, seed_transpiler=seed, seed_simulator=seed)\n"
     ]
    },
    {
     "name": "stdout",
     "output_type": "stream",
     "text": [
      "ACAE fidelity -0.3437434143817425\n"
     ]
    },
    {
     "name": "stderr",
     "output_type": "stream",
     "text": [
      "/var/folders/sx/5fkfsh9s4xsg76n37nm652pm0000gn/T/ipykernel_20408/23137701.py:179: DeprecationWarning: The function ``qiskit.execute_function.execute()`` is deprecated as of qiskit 0.46.0. It will be removed in the Qiskit 1.0 release. This function combines ``transpile`` and ``backend.run``, which is covered by ``Sampler`` :mod:`~qiskit.primitives`. Alternatively, you can also run :func:`.transpile` followed by ``backend.run()``.\n",
      "  job = execute(final_meas_circuits, backend=backend, shots=1, seed_transpiler=seed, seed_simulator=seed)\n"
     ]
    },
    {
     "name": "stdout",
     "output_type": "stream",
     "text": [
      "ACAE fidelity -0.3346495551051353\n"
     ]
    },
    {
     "name": "stderr",
     "output_type": "stream",
     "text": [
      "/var/folders/sx/5fkfsh9s4xsg76n37nm652pm0000gn/T/ipykernel_20408/23137701.py:179: DeprecationWarning: The function ``qiskit.execute_function.execute()`` is deprecated as of qiskit 0.46.0. It will be removed in the Qiskit 1.0 release. This function combines ``transpile`` and ``backend.run``, which is covered by ``Sampler`` :mod:`~qiskit.primitives`. Alternatively, you can also run :func:`.transpile` followed by ``backend.run()``.\n",
      "  job = execute(final_meas_circuits, backend=backend, shots=1, seed_transpiler=seed, seed_simulator=seed)\n"
     ]
    },
    {
     "name": "stdout",
     "output_type": "stream",
     "text": [
      "ACAE fidelity -0.3466646594785457\n"
     ]
    },
    {
     "name": "stderr",
     "output_type": "stream",
     "text": [
      "/var/folders/sx/5fkfsh9s4xsg76n37nm652pm0000gn/T/ipykernel_20408/23137701.py:179: DeprecationWarning: The function ``qiskit.execute_function.execute()`` is deprecated as of qiskit 0.46.0. It will be removed in the Qiskit 1.0 release. This function combines ``transpile`` and ``backend.run``, which is covered by ``Sampler`` :mod:`~qiskit.primitives`. Alternatively, you can also run :func:`.transpile` followed by ``backend.run()``.\n",
      "  job = execute(final_meas_circuits, backend=backend, shots=1, seed_transpiler=seed, seed_simulator=seed)\n"
     ]
    },
    {
     "name": "stdout",
     "output_type": "stream",
     "text": [
      "ACAE fidelity -0.3522554778524229\n"
     ]
    },
    {
     "name": "stderr",
     "output_type": "stream",
     "text": [
      "/var/folders/sx/5fkfsh9s4xsg76n37nm652pm0000gn/T/ipykernel_20408/23137701.py:179: DeprecationWarning: The function ``qiskit.execute_function.execute()`` is deprecated as of qiskit 0.46.0. It will be removed in the Qiskit 1.0 release. This function combines ``transpile`` and ``backend.run``, which is covered by ``Sampler`` :mod:`~qiskit.primitives`. Alternatively, you can also run :func:`.transpile` followed by ``backend.run()``.\n",
      "  job = execute(final_meas_circuits, backend=backend, shots=1, seed_transpiler=seed, seed_simulator=seed)\n"
     ]
    },
    {
     "name": "stdout",
     "output_type": "stream",
     "text": [
      "ACAE fidelity -0.3458217869246779\n"
     ]
    },
    {
     "name": "stderr",
     "output_type": "stream",
     "text": [
      "/var/folders/sx/5fkfsh9s4xsg76n37nm652pm0000gn/T/ipykernel_20408/23137701.py:179: DeprecationWarning: The function ``qiskit.execute_function.execute()`` is deprecated as of qiskit 0.46.0. It will be removed in the Qiskit 1.0 release. This function combines ``transpile`` and ``backend.run``, which is covered by ``Sampler`` :mod:`~qiskit.primitives`. Alternatively, you can also run :func:`.transpile` followed by ``backend.run()``.\n",
      "  job = execute(final_meas_circuits, backend=backend, shots=1, seed_transpiler=seed, seed_simulator=seed)\n"
     ]
    },
    {
     "name": "stdout",
     "output_type": "stream",
     "text": [
      "ACAE fidelity -0.339791049022919\n"
     ]
    },
    {
     "name": "stderr",
     "output_type": "stream",
     "text": [
      "/var/folders/sx/5fkfsh9s4xsg76n37nm652pm0000gn/T/ipykernel_20408/23137701.py:179: DeprecationWarning: The function ``qiskit.execute_function.execute()`` is deprecated as of qiskit 0.46.0. It will be removed in the Qiskit 1.0 release. This function combines ``transpile`` and ``backend.run``, which is covered by ``Sampler`` :mod:`~qiskit.primitives`. Alternatively, you can also run :func:`.transpile` followed by ``backend.run()``.\n",
      "  job = execute(final_meas_circuits, backend=backend, shots=1, seed_transpiler=seed, seed_simulator=seed)\n"
     ]
    },
    {
     "name": "stdout",
     "output_type": "stream",
     "text": [
      "ACAE fidelity -0.3388800498933688\n"
     ]
    },
    {
     "name": "stderr",
     "output_type": "stream",
     "text": [
      "/var/folders/sx/5fkfsh9s4xsg76n37nm652pm0000gn/T/ipykernel_20408/23137701.py:179: DeprecationWarning: The function ``qiskit.execute_function.execute()`` is deprecated as of qiskit 0.46.0. It will be removed in the Qiskit 1.0 release. This function combines ``transpile`` and ``backend.run``, which is covered by ``Sampler`` :mod:`~qiskit.primitives`. Alternatively, you can also run :func:`.transpile` followed by ``backend.run()``.\n",
      "  job = execute(final_meas_circuits, backend=backend, shots=1, seed_transpiler=seed, seed_simulator=seed)\n"
     ]
    },
    {
     "name": "stdout",
     "output_type": "stream",
     "text": [
      "ACAE fidelity -0.35845362897933364\n"
     ]
    },
    {
     "name": "stderr",
     "output_type": "stream",
     "text": [
      "/var/folders/sx/5fkfsh9s4xsg76n37nm652pm0000gn/T/ipykernel_20408/23137701.py:179: DeprecationWarning: The function ``qiskit.execute_function.execute()`` is deprecated as of qiskit 0.46.0. It will be removed in the Qiskit 1.0 release. This function combines ``transpile`` and ``backend.run``, which is covered by ``Sampler`` :mod:`~qiskit.primitives`. Alternatively, you can also run :func:`.transpile` followed by ``backend.run()``.\n",
      "  job = execute(final_meas_circuits, backend=backend, shots=1, seed_transpiler=seed, seed_simulator=seed)\n"
     ]
    },
    {
     "name": "stdout",
     "output_type": "stream",
     "text": [
      "ACAE fidelity -0.34387966753310745\n",
      " message: Maximum number of function evaluations has been exceeded.\n",
      " success: False\n",
      "  status: 2\n",
      "     fun: -0.35845362897933364\n",
      "       x: [-1.184e+00  1.218e+00  3.865e-02  9.468e-01 -2.153e+00\n",
      "            3.270e+00 -3.058e+00  1.920e+00 -1.041e+00  2.594e-01\n",
      "           -2.312e+00 -2.031e+00]\n",
      "    nfev: 20\n",
      "   maxcv: 0.0\n"
     ]
    },
    {
     "name": "stderr",
     "output_type": "stream",
     "text": [
      "/var/folders/sx/5fkfsh9s4xsg76n37nm652pm0000gn/T/ipykernel_20408/23137701.py:196: DeprecationWarning: The class ``qiskit.algorithms.minimum_eigen_solvers.vqe.VQE`` is deprecated as of qiskit-terra 0.24.0. It will be removed no earlier than 3 months after the release date. Instead, use the class ``qiskit.algorithms.minimum_eigensolvers.VQE``. See https://qisk.it/algo_migration for a migration guide.\n",
      "  vqe = VQE(ansatz=ansatz)  # reuse same ansatz\n",
      "/var/folders/sx/5fkfsh9s4xsg76n37nm652pm0000gn/T/ipykernel_20408/23137701.py:197: DeprecationWarning: The class ``qiskit.opflow.primitive_ops.pauli_sum_op.PauliSumOp`` is deprecated as of qiskit-terra 0.24.0. It will be removed in the Qiskit 1.0 release. For code migration guidelines, visit https://qisk.it/opflow_migration.\n",
      "  vqe_circuits = vqe.construct_circuit(ansatz.parameters, PauliSumOp(pauli_operator))\n",
      "/var/folders/sx/5fkfsh9s4xsg76n37nm652pm0000gn/T/ipykernel_20408/23137701.py:207: DeprecationWarning: The function ``qiskit.execute_function.execute()`` is deprecated as of qiskit 0.46.0. It will be removed in the Qiskit 1.0 release. This function combines ``transpile`` and ``backend.run``, which is covered by ``Sampler`` :mod:`~qiskit.primitives`. Alternatively, you can also run :func:`.transpile` followed by ``backend.run()``.\n",
      "  job = execute(final_meas_circuits, backend=backend, seed_transpiler=seed, seed_simulator=seed)\n",
      "/var/folders/sx/5fkfsh9s4xsg76n37nm652pm0000gn/T/ipykernel_20408/23137701.py:207: DeprecationWarning: The function ``qiskit.execute_function.execute()`` is deprecated as of qiskit 0.46.0. It will be removed in the Qiskit 1.0 release. This function combines ``transpile`` and ``backend.run``, which is covered by ``Sampler`` :mod:`~qiskit.primitives`. Alternatively, you can also run :func:`.transpile` followed by ``backend.run()``.\n",
      "  job = execute(final_meas_circuits, backend=backend, seed_transpiler=seed, seed_simulator=seed)\n",
      "/var/folders/sx/5fkfsh9s4xsg76n37nm652pm0000gn/T/ipykernel_20408/23137701.py:207: DeprecationWarning: The function ``qiskit.execute_function.execute()`` is deprecated as of qiskit 0.46.0. It will be removed in the Qiskit 1.0 release. This function combines ``transpile`` and ``backend.run``, which is covered by ``Sampler`` :mod:`~qiskit.primitives`. Alternatively, you can also run :func:`.transpile` followed by ``backend.run()``.\n",
      "  job = execute(final_meas_circuits, backend=backend, seed_transpiler=seed, seed_simulator=seed)\n"
     ]
    },
    {
     "name": "stdout",
     "output_type": "stream",
     "text": [
      "[<qiskit.circuit.library.n_local.efficient_su2.EfficientSU2 object at 0x1594faa90>, <qiskit.circuit.library.n_local.efficient_su2.EfficientSU2 object at 0x14fdbfd10>, <qiskit.circuit.library.n_local.efficient_su2.EfficientSU2 object at 0x14fce9990>]\n",
      "VQE expectation -0.7878256830722469\n",
      "VQE expectation -2.0460663679046247\n",
      "VQE expectation -0.3634463597238253\n",
      "VQE expectation -1.6943064806191637\n",
      "VQE expectation -1.3198870760794594\n"
     ]
    },
    {
     "name": "stderr",
     "output_type": "stream",
     "text": [
      "/var/folders/sx/5fkfsh9s4xsg76n37nm652pm0000gn/T/ipykernel_20408/23137701.py:207: DeprecationWarning: The function ``qiskit.execute_function.execute()`` is deprecated as of qiskit 0.46.0. It will be removed in the Qiskit 1.0 release. This function combines ``transpile`` and ``backend.run``, which is covered by ``Sampler`` :mod:`~qiskit.primitives`. Alternatively, you can also run :func:`.transpile` followed by ``backend.run()``.\n",
      "  job = execute(final_meas_circuits, backend=backend, seed_transpiler=seed, seed_simulator=seed)\n",
      "/var/folders/sx/5fkfsh9s4xsg76n37nm652pm0000gn/T/ipykernel_20408/23137701.py:207: DeprecationWarning: The function ``qiskit.execute_function.execute()`` is deprecated as of qiskit 0.46.0. It will be removed in the Qiskit 1.0 release. This function combines ``transpile`` and ``backend.run``, which is covered by ``Sampler`` :mod:`~qiskit.primitives`. Alternatively, you can also run :func:`.transpile` followed by ``backend.run()``.\n",
      "  job = execute(final_meas_circuits, backend=backend, seed_transpiler=seed, seed_simulator=seed)\n",
      "/var/folders/sx/5fkfsh9s4xsg76n37nm652pm0000gn/T/ipykernel_20408/23137701.py:207: DeprecationWarning: The function ``qiskit.execute_function.execute()`` is deprecated as of qiskit 0.46.0. It will be removed in the Qiskit 1.0 release. This function combines ``transpile`` and ``backend.run``, which is covered by ``Sampler`` :mod:`~qiskit.primitives`. Alternatively, you can also run :func:`.transpile` followed by ``backend.run()``.\n",
      "  job = execute(final_meas_circuits, backend=backend, seed_transpiler=seed, seed_simulator=seed)\n"
     ]
    },
    {
     "name": "stdout",
     "output_type": "stream",
     "text": [
      "VQE expectation -1.7307086489202124\n",
      "VQE expectation -0.9595971066961271\n",
      "VQE expectation -1.1901113656567603\n"
     ]
    },
    {
     "name": "stderr",
     "output_type": "stream",
     "text": [
      "/var/folders/sx/5fkfsh9s4xsg76n37nm652pm0000gn/T/ipykernel_20408/23137701.py:207: DeprecationWarning: The function ``qiskit.execute_function.execute()`` is deprecated as of qiskit 0.46.0. It will be removed in the Qiskit 1.0 release. This function combines ``transpile`` and ``backend.run``, which is covered by ``Sampler`` :mod:`~qiskit.primitives`. Alternatively, you can also run :func:`.transpile` followed by ``backend.run()``.\n",
      "  job = execute(final_meas_circuits, backend=backend, seed_transpiler=seed, seed_simulator=seed)\n",
      "/var/folders/sx/5fkfsh9s4xsg76n37nm652pm0000gn/T/ipykernel_20408/23137701.py:207: DeprecationWarning: The function ``qiskit.execute_function.execute()`` is deprecated as of qiskit 0.46.0. It will be removed in the Qiskit 1.0 release. This function combines ``transpile`` and ``backend.run``, which is covered by ``Sampler`` :mod:`~qiskit.primitives`. Alternatively, you can also run :func:`.transpile` followed by ``backend.run()``.\n",
      "  job = execute(final_meas_circuits, backend=backend, seed_transpiler=seed, seed_simulator=seed)\n",
      "/var/folders/sx/5fkfsh9s4xsg76n37nm652pm0000gn/T/ipykernel_20408/23137701.py:207: DeprecationWarning: The function ``qiskit.execute_function.execute()`` is deprecated as of qiskit 0.46.0. It will be removed in the Qiskit 1.0 release. This function combines ``transpile`` and ``backend.run``, which is covered by ``Sampler`` :mod:`~qiskit.primitives`. Alternatively, you can also run :func:`.transpile` followed by ``backend.run()``.\n",
      "  job = execute(final_meas_circuits, backend=backend, seed_transpiler=seed, seed_simulator=seed)\n"
     ]
    },
    {
     "name": "stdout",
     "output_type": "stream",
     "text": [
      "VQE expectation -2.1327527774820716\n",
      "VQE expectation -0.7438794738549678\n",
      "VQE expectation -2.3723252528691714\n"
     ]
    },
    {
     "name": "stderr",
     "output_type": "stream",
     "text": [
      "/var/folders/sx/5fkfsh9s4xsg76n37nm652pm0000gn/T/ipykernel_20408/23137701.py:207: DeprecationWarning: The function ``qiskit.execute_function.execute()`` is deprecated as of qiskit 0.46.0. It will be removed in the Qiskit 1.0 release. This function combines ``transpile`` and ``backend.run``, which is covered by ``Sampler`` :mod:`~qiskit.primitives`. Alternatively, you can also run :func:`.transpile` followed by ``backend.run()``.\n",
      "  job = execute(final_meas_circuits, backend=backend, seed_transpiler=seed, seed_simulator=seed)\n",
      "/var/folders/sx/5fkfsh9s4xsg76n37nm652pm0000gn/T/ipykernel_20408/23137701.py:207: DeprecationWarning: The function ``qiskit.execute_function.execute()`` is deprecated as of qiskit 0.46.0. It will be removed in the Qiskit 1.0 release. This function combines ``transpile`` and ``backend.run``, which is covered by ``Sampler`` :mod:`~qiskit.primitives`. Alternatively, you can also run :func:`.transpile` followed by ``backend.run()``.\n",
      "  job = execute(final_meas_circuits, backend=backend, seed_transpiler=seed, seed_simulator=seed)\n",
      "/var/folders/sx/5fkfsh9s4xsg76n37nm652pm0000gn/T/ipykernel_20408/23137701.py:207: DeprecationWarning: The function ``qiskit.execute_function.execute()`` is deprecated as of qiskit 0.46.0. It will be removed in the Qiskit 1.0 release. This function combines ``transpile`` and ``backend.run``, which is covered by ``Sampler`` :mod:`~qiskit.primitives`. Alternatively, you can also run :func:`.transpile` followed by ``backend.run()``.\n",
      "  job = execute(final_meas_circuits, backend=backend, seed_transpiler=seed, seed_simulator=seed)\n"
     ]
    },
    {
     "name": "stdout",
     "output_type": "stream",
     "text": [
      "VQE expectation -1.992821377759412\n",
      "VQE expectation -2.6263621656961034\n",
      "VQE expectation -4.709953217692617\n"
     ]
    },
    {
     "name": "stderr",
     "output_type": "stream",
     "text": [
      "/var/folders/sx/5fkfsh9s4xsg76n37nm652pm0000gn/T/ipykernel_20408/23137701.py:207: DeprecationWarning: The function ``qiskit.execute_function.execute()`` is deprecated as of qiskit 0.46.0. It will be removed in the Qiskit 1.0 release. This function combines ``transpile`` and ``backend.run``, which is covered by ``Sampler`` :mod:`~qiskit.primitives`. Alternatively, you can also run :func:`.transpile` followed by ``backend.run()``.\n",
      "  job = execute(final_meas_circuits, backend=backend, seed_transpiler=seed, seed_simulator=seed)\n",
      "/var/folders/sx/5fkfsh9s4xsg76n37nm652pm0000gn/T/ipykernel_20408/23137701.py:207: DeprecationWarning: The function ``qiskit.execute_function.execute()`` is deprecated as of qiskit 0.46.0. It will be removed in the Qiskit 1.0 release. This function combines ``transpile`` and ``backend.run``, which is covered by ``Sampler`` :mod:`~qiskit.primitives`. Alternatively, you can also run :func:`.transpile` followed by ``backend.run()``.\n",
      "  job = execute(final_meas_circuits, backend=backend, seed_transpiler=seed, seed_simulator=seed)\n",
      "/var/folders/sx/5fkfsh9s4xsg76n37nm652pm0000gn/T/ipykernel_20408/23137701.py:207: DeprecationWarning: The function ``qiskit.execute_function.execute()`` is deprecated as of qiskit 0.46.0. It will be removed in the Qiskit 1.0 release. This function combines ``transpile`` and ``backend.run``, which is covered by ``Sampler`` :mod:`~qiskit.primitives`. Alternatively, you can also run :func:`.transpile` followed by ``backend.run()``.\n",
      "  job = execute(final_meas_circuits, backend=backend, seed_transpiler=seed, seed_simulator=seed)\n"
     ]
    },
    {
     "name": "stdout",
     "output_type": "stream",
     "text": [
      "VQE expectation -4.841257638108206\n",
      "VQE expectation -4.644154689618546\n",
      "VQE expectation -4.184887287673893\n"
     ]
    },
    {
     "name": "stderr",
     "output_type": "stream",
     "text": [
      "/var/folders/sx/5fkfsh9s4xsg76n37nm652pm0000gn/T/ipykernel_20408/23137701.py:207: DeprecationWarning: The function ``qiskit.execute_function.execute()`` is deprecated as of qiskit 0.46.0. It will be removed in the Qiskit 1.0 release. This function combines ``transpile`` and ``backend.run``, which is covered by ``Sampler`` :mod:`~qiskit.primitives`. Alternatively, you can also run :func:`.transpile` followed by ``backend.run()``.\n",
      "  job = execute(final_meas_circuits, backend=backend, seed_transpiler=seed, seed_simulator=seed)\n",
      "/var/folders/sx/5fkfsh9s4xsg76n37nm652pm0000gn/T/ipykernel_20408/23137701.py:207: DeprecationWarning: The function ``qiskit.execute_function.execute()`` is deprecated as of qiskit 0.46.0. It will be removed in the Qiskit 1.0 release. This function combines ``transpile`` and ``backend.run``, which is covered by ``Sampler`` :mod:`~qiskit.primitives`. Alternatively, you can also run :func:`.transpile` followed by ``backend.run()``.\n",
      "  job = execute(final_meas_circuits, backend=backend, seed_transpiler=seed, seed_simulator=seed)\n",
      "/var/folders/sx/5fkfsh9s4xsg76n37nm652pm0000gn/T/ipykernel_20408/23137701.py:207: DeprecationWarning: The function ``qiskit.execute_function.execute()`` is deprecated as of qiskit 0.46.0. It will be removed in the Qiskit 1.0 release. This function combines ``transpile`` and ``backend.run``, which is covered by ``Sampler`` :mod:`~qiskit.primitives`. Alternatively, you can also run :func:`.transpile` followed by ``backend.run()``.\n",
      "  job = execute(final_meas_circuits, backend=backend, seed_transpiler=seed, seed_simulator=seed)\n"
     ]
    },
    {
     "name": "stdout",
     "output_type": "stream",
     "text": [
      "VQE expectation -4.797156604204518\n",
      "VQE expectation -4.594579313017274\n",
      "VQE expectation -4.918464095797586\n"
     ]
    },
    {
     "name": "stderr",
     "output_type": "stream",
     "text": [
      "/var/folders/sx/5fkfsh9s4xsg76n37nm652pm0000gn/T/ipykernel_20408/23137701.py:207: DeprecationWarning: The function ``qiskit.execute_function.execute()`` is deprecated as of qiskit 0.46.0. It will be removed in the Qiskit 1.0 release. This function combines ``transpile`` and ``backend.run``, which is covered by ``Sampler`` :mod:`~qiskit.primitives`. Alternatively, you can also run :func:`.transpile` followed by ``backend.run()``.\n",
      "  job = execute(final_meas_circuits, backend=backend, seed_transpiler=seed, seed_simulator=seed)\n",
      "/var/folders/sx/5fkfsh9s4xsg76n37nm652pm0000gn/T/ipykernel_20408/23137701.py:207: DeprecationWarning: The function ``qiskit.execute_function.execute()`` is deprecated as of qiskit 0.46.0. It will be removed in the Qiskit 1.0 release. This function combines ``transpile`` and ``backend.run``, which is covered by ``Sampler`` :mod:`~qiskit.primitives`. Alternatively, you can also run :func:`.transpile` followed by ``backend.run()``.\n",
      "  job = execute(final_meas_circuits, backend=backend, seed_transpiler=seed, seed_simulator=seed)\n",
      "/var/folders/sx/5fkfsh9s4xsg76n37nm652pm0000gn/T/ipykernel_20408/23137701.py:207: DeprecationWarning: The function ``qiskit.execute_function.execute()`` is deprecated as of qiskit 0.46.0. It will be removed in the Qiskit 1.0 release. This function combines ``transpile`` and ``backend.run``, which is covered by ``Sampler`` :mod:`~qiskit.primitives`. Alternatively, you can also run :func:`.transpile` followed by ``backend.run()``.\n",
      "  job = execute(final_meas_circuits, backend=backend, seed_transpiler=seed, seed_simulator=seed)\n"
     ]
    },
    {
     "name": "stdout",
     "output_type": "stream",
     "text": [
      "VQE expectation -5.166489700411181\n",
      "VQE expectation -4.574551142955064\n"
     ]
    },
    {
     "name": "stderr",
     "output_type": "stream",
     "text": [
      "/var/folders/sx/5fkfsh9s4xsg76n37nm652pm0000gn/T/ipykernel_20408/23137701.py:207: DeprecationWarning: The function ``qiskit.execute_function.execute()`` is deprecated as of qiskit 0.46.0. It will be removed in the Qiskit 1.0 release. This function combines ``transpile`` and ``backend.run``, which is covered by ``Sampler`` :mod:`~qiskit.primitives`. Alternatively, you can also run :func:`.transpile` followed by ``backend.run()``.\n",
      "  job = execute(final_meas_circuits, backend=backend, seed_transpiler=seed, seed_simulator=seed)\n",
      "/var/folders/sx/5fkfsh9s4xsg76n37nm652pm0000gn/T/ipykernel_20408/23137701.py:207: DeprecationWarning: The function ``qiskit.execute_function.execute()`` is deprecated as of qiskit 0.46.0. It will be removed in the Qiskit 1.0 release. This function combines ``transpile`` and ``backend.run``, which is covered by ``Sampler`` :mod:`~qiskit.primitives`. Alternatively, you can also run :func:`.transpile` followed by ``backend.run()``.\n",
      "  job = execute(final_meas_circuits, backend=backend, seed_transpiler=seed, seed_simulator=seed)\n"
     ]
    },
    {
     "name": "stdout",
     "output_type": "stream",
     "text": [
      "VQE expectation -4.827009416660153\n",
      "VQE expectation -5.095739653244701\n",
      "VQE expectation -4.788421042458598\n"
     ]
    },
    {
     "name": "stderr",
     "output_type": "stream",
     "text": [
      "/var/folders/sx/5fkfsh9s4xsg76n37nm652pm0000gn/T/ipykernel_20408/23137701.py:207: DeprecationWarning: The function ``qiskit.execute_function.execute()`` is deprecated as of qiskit 0.46.0. It will be removed in the Qiskit 1.0 release. This function combines ``transpile`` and ``backend.run``, which is covered by ``Sampler`` :mod:`~qiskit.primitives`. Alternatively, you can also run :func:`.transpile` followed by ``backend.run()``.\n",
      "  job = execute(final_meas_circuits, backend=backend, seed_transpiler=seed, seed_simulator=seed)\n",
      "/var/folders/sx/5fkfsh9s4xsg76n37nm652pm0000gn/T/ipykernel_20408/23137701.py:207: DeprecationWarning: The function ``qiskit.execute_function.execute()`` is deprecated as of qiskit 0.46.0. It will be removed in the Qiskit 1.0 release. This function combines ``transpile`` and ``backend.run``, which is covered by ``Sampler`` :mod:`~qiskit.primitives`. Alternatively, you can also run :func:`.transpile` followed by ``backend.run()``.\n",
      "  job = execute(final_meas_circuits, backend=backend, seed_transpiler=seed, seed_simulator=seed)\n",
      "/var/folders/sx/5fkfsh9s4xsg76n37nm652pm0000gn/T/ipykernel_20408/23137701.py:207: DeprecationWarning: The function ``qiskit.execute_function.execute()`` is deprecated as of qiskit 0.46.0. It will be removed in the Qiskit 1.0 release. This function combines ``transpile`` and ``backend.run``, which is covered by ``Sampler`` :mod:`~qiskit.primitives`. Alternatively, you can also run :func:`.transpile` followed by ``backend.run()``.\n",
      "  job = execute(final_meas_circuits, backend=backend, seed_transpiler=seed, seed_simulator=seed)\n"
     ]
    },
    {
     "name": "stdout",
     "output_type": "stream",
     "text": [
      "VQE expectation -4.93749143914061\n",
      "VQE expectation -5.440204014942553\n",
      "VQE expectation -4.280588332157582\n"
     ]
    },
    {
     "name": "stderr",
     "output_type": "stream",
     "text": [
      "/var/folders/sx/5fkfsh9s4xsg76n37nm652pm0000gn/T/ipykernel_20408/23137701.py:207: DeprecationWarning: The function ``qiskit.execute_function.execute()`` is deprecated as of qiskit 0.46.0. It will be removed in the Qiskit 1.0 release. This function combines ``transpile`` and ``backend.run``, which is covered by ``Sampler`` :mod:`~qiskit.primitives`. Alternatively, you can also run :func:`.transpile` followed by ``backend.run()``.\n",
      "  job = execute(final_meas_circuits, backend=backend, seed_transpiler=seed, seed_simulator=seed)\n",
      "/var/folders/sx/5fkfsh9s4xsg76n37nm652pm0000gn/T/ipykernel_20408/23137701.py:207: DeprecationWarning: The function ``qiskit.execute_function.execute()`` is deprecated as of qiskit 0.46.0. It will be removed in the Qiskit 1.0 release. This function combines ``transpile`` and ``backend.run``, which is covered by ``Sampler`` :mod:`~qiskit.primitives`. Alternatively, you can also run :func:`.transpile` followed by ``backend.run()``.\n",
      "  job = execute(final_meas_circuits, backend=backend, seed_transpiler=seed, seed_simulator=seed)\n",
      "/var/folders/sx/5fkfsh9s4xsg76n37nm652pm0000gn/T/ipykernel_20408/23137701.py:207: DeprecationWarning: The function ``qiskit.execute_function.execute()`` is deprecated as of qiskit 0.46.0. It will be removed in the Qiskit 1.0 release. This function combines ``transpile`` and ``backend.run``, which is covered by ``Sampler`` :mod:`~qiskit.primitives`. Alternatively, you can also run :func:`.transpile` followed by ``backend.run()``.\n",
      "  job = execute(final_meas_circuits, backend=backend, seed_transpiler=seed, seed_simulator=seed)\n"
     ]
    },
    {
     "name": "stdout",
     "output_type": "stream",
     "text": [
      "VQE expectation -5.016178202581643\n",
      "VQE expectation -5.342710847089136\n",
      "VQE expectation -5.231589827096064\n"
     ]
    },
    {
     "name": "stderr",
     "output_type": "stream",
     "text": [
      "/var/folders/sx/5fkfsh9s4xsg76n37nm652pm0000gn/T/ipykernel_20408/23137701.py:207: DeprecationWarning: The function ``qiskit.execute_function.execute()`` is deprecated as of qiskit 0.46.0. It will be removed in the Qiskit 1.0 release. This function combines ``transpile`` and ``backend.run``, which is covered by ``Sampler`` :mod:`~qiskit.primitives`. Alternatively, you can also run :func:`.transpile` followed by ``backend.run()``.\n",
      "  job = execute(final_meas_circuits, backend=backend, seed_transpiler=seed, seed_simulator=seed)\n",
      "/var/folders/sx/5fkfsh9s4xsg76n37nm652pm0000gn/T/ipykernel_20408/23137701.py:207: DeprecationWarning: The function ``qiskit.execute_function.execute()`` is deprecated as of qiskit 0.46.0. It will be removed in the Qiskit 1.0 release. This function combines ``transpile`` and ``backend.run``, which is covered by ``Sampler`` :mod:`~qiskit.primitives`. Alternatively, you can also run :func:`.transpile` followed by ``backend.run()``.\n",
      "  job = execute(final_meas_circuits, backend=backend, seed_transpiler=seed, seed_simulator=seed)\n",
      "/var/folders/sx/5fkfsh9s4xsg76n37nm652pm0000gn/T/ipykernel_20408/23137701.py:207: DeprecationWarning: The function ``qiskit.execute_function.execute()`` is deprecated as of qiskit 0.46.0. It will be removed in the Qiskit 1.0 release. This function combines ``transpile`` and ``backend.run``, which is covered by ``Sampler`` :mod:`~qiskit.primitives`. Alternatively, you can also run :func:`.transpile` followed by ``backend.run()``.\n",
      "  job = execute(final_meas_circuits, backend=backend, seed_transpiler=seed, seed_simulator=seed)\n"
     ]
    },
    {
     "name": "stdout",
     "output_type": "stream",
     "text": [
      "VQE expectation -5.525349449911899\n",
      "VQE expectation -5.64257008408286\n",
      "VQE expectation -5.585070193742945\n"
     ]
    },
    {
     "name": "stderr",
     "output_type": "stream",
     "text": [
      "/var/folders/sx/5fkfsh9s4xsg76n37nm652pm0000gn/T/ipykernel_20408/23137701.py:207: DeprecationWarning: The function ``qiskit.execute_function.execute()`` is deprecated as of qiskit 0.46.0. It will be removed in the Qiskit 1.0 release. This function combines ``transpile`` and ``backend.run``, which is covered by ``Sampler`` :mod:`~qiskit.primitives`. Alternatively, you can also run :func:`.transpile` followed by ``backend.run()``.\n",
      "  job = execute(final_meas_circuits, backend=backend, seed_transpiler=seed, seed_simulator=seed)\n",
      "/var/folders/sx/5fkfsh9s4xsg76n37nm652pm0000gn/T/ipykernel_20408/23137701.py:207: DeprecationWarning: The function ``qiskit.execute_function.execute()`` is deprecated as of qiskit 0.46.0. It will be removed in the Qiskit 1.0 release. This function combines ``transpile`` and ``backend.run``, which is covered by ``Sampler`` :mod:`~qiskit.primitives`. Alternatively, you can also run :func:`.transpile` followed by ``backend.run()``.\n",
      "  job = execute(final_meas_circuits, backend=backend, seed_transpiler=seed, seed_simulator=seed)\n",
      "/var/folders/sx/5fkfsh9s4xsg76n37nm652pm0000gn/T/ipykernel_20408/23137701.py:207: DeprecationWarning: The function ``qiskit.execute_function.execute()`` is deprecated as of qiskit 0.46.0. It will be removed in the Qiskit 1.0 release. This function combines ``transpile`` and ``backend.run``, which is covered by ``Sampler`` :mod:`~qiskit.primitives`. Alternatively, you can also run :func:`.transpile` followed by ``backend.run()``.\n",
      "  job = execute(final_meas_circuits, backend=backend, seed_transpiler=seed, seed_simulator=seed)\n"
     ]
    },
    {
     "name": "stdout",
     "output_type": "stream",
     "text": [
      "VQE expectation -5.715426709808283\n",
      "VQE expectation -5.739257383941408\n",
      "VQE expectation -5.574807853710609\n"
     ]
    },
    {
     "name": "stderr",
     "output_type": "stream",
     "text": [
      "/var/folders/sx/5fkfsh9s4xsg76n37nm652pm0000gn/T/ipykernel_20408/23137701.py:207: DeprecationWarning: The function ``qiskit.execute_function.execute()`` is deprecated as of qiskit 0.46.0. It will be removed in the Qiskit 1.0 release. This function combines ``transpile`` and ``backend.run``, which is covered by ``Sampler`` :mod:`~qiskit.primitives`. Alternatively, you can also run :func:`.transpile` followed by ``backend.run()``.\n",
      "  job = execute(final_meas_circuits, backend=backend, seed_transpiler=seed, seed_simulator=seed)\n",
      "/var/folders/sx/5fkfsh9s4xsg76n37nm652pm0000gn/T/ipykernel_20408/23137701.py:207: DeprecationWarning: The function ``qiskit.execute_function.execute()`` is deprecated as of qiskit 0.46.0. It will be removed in the Qiskit 1.0 release. This function combines ``transpile`` and ``backend.run``, which is covered by ``Sampler`` :mod:`~qiskit.primitives`. Alternatively, you can also run :func:`.transpile` followed by ``backend.run()``.\n",
      "  job = execute(final_meas_circuits, backend=backend, seed_transpiler=seed, seed_simulator=seed)\n",
      "/var/folders/sx/5fkfsh9s4xsg76n37nm652pm0000gn/T/ipykernel_20408/23137701.py:207: DeprecationWarning: The function ``qiskit.execute_function.execute()`` is deprecated as of qiskit 0.46.0. It will be removed in the Qiskit 1.0 release. This function combines ``transpile`` and ``backend.run``, which is covered by ``Sampler`` :mod:`~qiskit.primitives`. Alternatively, you can also run :func:`.transpile` followed by ``backend.run()``.\n",
      "  job = execute(final_meas_circuits, backend=backend, seed_transpiler=seed, seed_simulator=seed)\n"
     ]
    },
    {
     "name": "stdout",
     "output_type": "stream",
     "text": [
      "VQE expectation -5.71968726130764\n",
      "VQE expectation -5.597744101730339\n",
      "VQE expectation -5.688774843002802\n"
     ]
    },
    {
     "name": "stderr",
     "output_type": "stream",
     "text": [
      "/var/folders/sx/5fkfsh9s4xsg76n37nm652pm0000gn/T/ipykernel_20408/23137701.py:207: DeprecationWarning: The function ``qiskit.execute_function.execute()`` is deprecated as of qiskit 0.46.0. It will be removed in the Qiskit 1.0 release. This function combines ``transpile`` and ``backend.run``, which is covered by ``Sampler`` :mod:`~qiskit.primitives`. Alternatively, you can also run :func:`.transpile` followed by ``backend.run()``.\n",
      "  job = execute(final_meas_circuits, backend=backend, seed_transpiler=seed, seed_simulator=seed)\n",
      "/var/folders/sx/5fkfsh9s4xsg76n37nm652pm0000gn/T/ipykernel_20408/23137701.py:207: DeprecationWarning: The function ``qiskit.execute_function.execute()`` is deprecated as of qiskit 0.46.0. It will be removed in the Qiskit 1.0 release. This function combines ``transpile`` and ``backend.run``, which is covered by ``Sampler`` :mod:`~qiskit.primitives`. Alternatively, you can also run :func:`.transpile` followed by ``backend.run()``.\n",
      "  job = execute(final_meas_circuits, backend=backend, seed_transpiler=seed, seed_simulator=seed)\n",
      "/var/folders/sx/5fkfsh9s4xsg76n37nm652pm0000gn/T/ipykernel_20408/23137701.py:207: DeprecationWarning: The function ``qiskit.execute_function.execute()`` is deprecated as of qiskit 0.46.0. It will be removed in the Qiskit 1.0 release. This function combines ``transpile`` and ``backend.run``, which is covered by ``Sampler`` :mod:`~qiskit.primitives`. Alternatively, you can also run :func:`.transpile` followed by ``backend.run()``.\n",
      "  job = execute(final_meas_circuits, backend=backend, seed_transpiler=seed, seed_simulator=seed)\n"
     ]
    },
    {
     "name": "stdout",
     "output_type": "stream",
     "text": [
      "VQE expectation -5.642022126741473\n",
      "VQE expectation -5.609563978374759\n",
      "VQE expectation -5.696935002281112\n"
     ]
    },
    {
     "name": "stderr",
     "output_type": "stream",
     "text": [
      "/var/folders/sx/5fkfsh9s4xsg76n37nm652pm0000gn/T/ipykernel_20408/23137701.py:207: DeprecationWarning: The function ``qiskit.execute_function.execute()`` is deprecated as of qiskit 0.46.0. It will be removed in the Qiskit 1.0 release. This function combines ``transpile`` and ``backend.run``, which is covered by ``Sampler`` :mod:`~qiskit.primitives`. Alternatively, you can also run :func:`.transpile` followed by ``backend.run()``.\n",
      "  job = execute(final_meas_circuits, backend=backend, seed_transpiler=seed, seed_simulator=seed)\n",
      "/var/folders/sx/5fkfsh9s4xsg76n37nm652pm0000gn/T/ipykernel_20408/23137701.py:207: DeprecationWarning: The function ``qiskit.execute_function.execute()`` is deprecated as of qiskit 0.46.0. It will be removed in the Qiskit 1.0 release. This function combines ``transpile`` and ``backend.run``, which is covered by ``Sampler`` :mod:`~qiskit.primitives`. Alternatively, you can also run :func:`.transpile` followed by ``backend.run()``.\n",
      "  job = execute(final_meas_circuits, backend=backend, seed_transpiler=seed, seed_simulator=seed)\n",
      "/var/folders/sx/5fkfsh9s4xsg76n37nm652pm0000gn/T/ipykernel_20408/23137701.py:207: DeprecationWarning: The function ``qiskit.execute_function.execute()`` is deprecated as of qiskit 0.46.0. It will be removed in the Qiskit 1.0 release. This function combines ``transpile`` and ``backend.run``, which is covered by ``Sampler`` :mod:`~qiskit.primitives`. Alternatively, you can also run :func:`.transpile` followed by ``backend.run()``.\n",
      "  job = execute(final_meas_circuits, backend=backend, seed_transpiler=seed, seed_simulator=seed)\n"
     ]
    },
    {
     "name": "stdout",
     "output_type": "stream",
     "text": [
      "VQE expectation -5.722815521879006\n",
      "VQE expectation -5.6907218402256925\n",
      "VQE expectation -5.74992651099223\n"
     ]
    },
    {
     "name": "stderr",
     "output_type": "stream",
     "text": [
      "/var/folders/sx/5fkfsh9s4xsg76n37nm652pm0000gn/T/ipykernel_20408/23137701.py:207: DeprecationWarning: The function ``qiskit.execute_function.execute()`` is deprecated as of qiskit 0.46.0. It will be removed in the Qiskit 1.0 release. This function combines ``transpile`` and ``backend.run``, which is covered by ``Sampler`` :mod:`~qiskit.primitives`. Alternatively, you can also run :func:`.transpile` followed by ``backend.run()``.\n",
      "  job = execute(final_meas_circuits, backend=backend, seed_transpiler=seed, seed_simulator=seed)\n",
      "/var/folders/sx/5fkfsh9s4xsg76n37nm652pm0000gn/T/ipykernel_20408/23137701.py:207: DeprecationWarning: The function ``qiskit.execute_function.execute()`` is deprecated as of qiskit 0.46.0. It will be removed in the Qiskit 1.0 release. This function combines ``transpile`` and ``backend.run``, which is covered by ``Sampler`` :mod:`~qiskit.primitives`. Alternatively, you can also run :func:`.transpile` followed by ``backend.run()``.\n",
      "  job = execute(final_meas_circuits, backend=backend, seed_transpiler=seed, seed_simulator=seed)\n",
      "/var/folders/sx/5fkfsh9s4xsg76n37nm652pm0000gn/T/ipykernel_20408/23137701.py:207: DeprecationWarning: The function ``qiskit.execute_function.execute()`` is deprecated as of qiskit 0.46.0. It will be removed in the Qiskit 1.0 release. This function combines ``transpile`` and ``backend.run``, which is covered by ``Sampler`` :mod:`~qiskit.primitives`. Alternatively, you can also run :func:`.transpile` followed by ``backend.run()``.\n",
      "  job = execute(final_meas_circuits, backend=backend, seed_transpiler=seed, seed_simulator=seed)\n"
     ]
    },
    {
     "name": "stdout",
     "output_type": "stream",
     "text": [
      "VQE expectation -5.69634737531305\n",
      "VQE expectation -5.7429059876475534\n",
      "VQE expectation -5.7180645436991995\n"
     ]
    },
    {
     "name": "stderr",
     "output_type": "stream",
     "text": [
      "/var/folders/sx/5fkfsh9s4xsg76n37nm652pm0000gn/T/ipykernel_20408/23137701.py:207: DeprecationWarning: The function ``qiskit.execute_function.execute()`` is deprecated as of qiskit 0.46.0. It will be removed in the Qiskit 1.0 release. This function combines ``transpile`` and ``backend.run``, which is covered by ``Sampler`` :mod:`~qiskit.primitives`. Alternatively, you can also run :func:`.transpile` followed by ``backend.run()``.\n",
      "  job = execute(final_meas_circuits, backend=backend, seed_transpiler=seed, seed_simulator=seed)\n",
      "/var/folders/sx/5fkfsh9s4xsg76n37nm652pm0000gn/T/ipykernel_20408/23137701.py:207: DeprecationWarning: The function ``qiskit.execute_function.execute()`` is deprecated as of qiskit 0.46.0. It will be removed in the Qiskit 1.0 release. This function combines ``transpile`` and ``backend.run``, which is covered by ``Sampler`` :mod:`~qiskit.primitives`. Alternatively, you can also run :func:`.transpile` followed by ``backend.run()``.\n",
      "  job = execute(final_meas_circuits, backend=backend, seed_transpiler=seed, seed_simulator=seed)\n",
      "/var/folders/sx/5fkfsh9s4xsg76n37nm652pm0000gn/T/ipykernel_20408/23137701.py:207: DeprecationWarning: The function ``qiskit.execute_function.execute()`` is deprecated as of qiskit 0.46.0. It will be removed in the Qiskit 1.0 release. This function combines ``transpile`` and ``backend.run``, which is covered by ``Sampler`` :mod:`~qiskit.primitives`. Alternatively, you can also run :func:`.transpile` followed by ``backend.run()``.\n",
      "  job = execute(final_meas_circuits, backend=backend, seed_transpiler=seed, seed_simulator=seed)\n"
     ]
    },
    {
     "name": "stdout",
     "output_type": "stream",
     "text": [
      "VQE expectation -5.743687909731607\n",
      " message: Maximum number of function evaluations has been exceeded.\n",
      " success: False\n",
      "  status: 2\n",
      "     fun: -5.74992651099223\n",
      "       x: [ 1.853e-01  8.812e-01 -1.276e-01  5.706e-01 -1.864e+00\n",
      "            2.799e+00 -3.541e+00  2.433e+00 -1.042e+00  7.443e-01\n",
      "           -2.502e+00 -1.738e+00]\n",
      "    nfev: 50\n",
      "   maxcv: 0.0\n"
     ]
    }
   ],
   "source": [
    "import numpy as np\n",
    "from qiskit import Aer, execute\n",
    "from scipy.optimize import minimize\n",
    "from qiskit.circuit.library import EfficientSU2\n",
    "from qiskit.quantum_info import Statevector\n",
    "from qiskit.quantum_info import SparsePauliOp\n",
    "from qiskit.opflow.primitive_ops import PauliSumOp\n",
    "from qiskit.algorithms import VQE\n",
    "from qiskit.quantum_info import random_clifford\n",
    "from qiskit import QuantumCircuit\n",
    "\n",
    "seed = 1\n",
    "np.random.seed(seed)\n",
    "operator_matrix = np.matrix([[4.12622481 + 0.j, -0.08968504 + 4.79784639j, 1.65775982 + 0.92708254j,\n",
    "                              1.17624349 + 2.4661674j, -3.335948 + 1.08703469j, -4.98109937 + 0.70532393j,\n",
    "                              2.71579923 + 4.58174919j, 1.0245947 + 4.28887226j],\n",
    "                             [-0.08968504 - 4.79784639j, -1.52015431 + 0.j, 3.53812825 + 1.04090814j,\n",
    "                              -0.62529457 - 0.28077156j, -3.11655239 + 4.72991548j, 0.85201655 - 4.6724328j,\n",
    "                              -1.96061315 + 1.49140336j, 4.81993641 - 0.02042725j],\n",
    "                             [1.65775982 - 0.92708254j, 3.53812825 - 1.04090814j, 4.73317403 + 0.j,\n",
    "                              2.69118181 + 0.69165245j, 2.17508288 + 0.37789998j, 3.75557884 + 1.37651403j,\n",
    "                              -4.50761077 - 2.24874379j, 2.20380462 + 1.60226692j],\n",
    "                             [1.17624349 - 2.4661674j, -0.62529457 + 0.28077156j, 2.69118181 - 0.69165245j,\n",
    "                              0.2992812 + 0.j, -4.12634487 + 0.45647952j, -2.925992 + 4.25854082j,\n",
    "                              0.97069172 - 2.03058852j, 0.04904204 + 0.03472227j],\n",
    "                             [-3.335948 - 1.08703469j, -3.11655239 - 4.72991548j, 2.17508288 - 0.37789998j,\n",
    "                              -4.12634487 - 0.45647952j, 2.09632259 + 0.j, 4.90225303 - 2.18312633j,\n",
    "                              -1.0118842 - 3.61389139j, -0.3231792 - 1.28326535j],\n",
    "                             [-4.98109937 - 0.70532393j, 0.85201655 + 4.6724328j, 3.75557884 - 1.37651403j,\n",
    "                              -2.925992 - 4.25854082j, 4.90225303 + 2.18312633j, -4.4317145 + 0.j,\n",
    "                              -3.97538473 - 2.09544471j, -4.18585618 - 4.33025063j],\n",
    "                             [2.71579923 - 4.58174919j, -1.96061315 - 1.49140336j, -4.50761077 + 2.24874379j,\n",
    "                              0.97069172 + 2.03058852j, -1.0118842 + 3.61389139j, -3.97538473 + 2.09544471j,\n",
    "                              1.95815546 + 0.j, 1.93252228 - 4.61344071j],\n",
    "                             [1.0245947 - 4.28887226j, 4.81993641 + 0.02042725j, 2.20380462 - 1.60226692j,\n",
    "                              0.04904204 - 0.03472227j, -0.3231792 + 1.28326535j, -4.18585618 + 4.33025063j,\n",
    "                              1.93252228 + 4.61344071j, -1.19669648 + 0.j]])\n",
    "operator_matrix = np.matrix([[0, 1, 0, -1.j], [1, 0, 1.j, 0], [0, -1.j, 0, -1], [1.j, 0, -1, 0]])\n",
    "operator_matrix = np.matrix([[3. + 0.j, 2. + 0.j, 0. + 0.j, 0. - 2.5j], [2. + 0.j, -3. + 0.j, 0. + 2.5j, 0. + 0.j],\n",
    "                             [0. + 0.j, 0. - 2.5j, -3. + 0.j, 0. + 0.j], [0. + 2.5j, 0. + 0.j, 0. + 0.j, 3. + 0.j]])\n",
    "pauli_operator = SparsePauliOp.from_operator(operator_matrix)\n",
    "\n",
    "\n",
    "def prepare_meas_circuits(circuit: QuantumCircuit, n_shadows, seed=None):\n",
    "    \"\"\"Append n_shadows random clifford unitaries to the circuit\n",
    "    returns collection of circuits along with collection of the unitaries used\"\"\"\n",
    "\n",
    "    circuits = []\n",
    "    unitaries = []\n",
    "    for i in range(n_shadows):\n",
    "        clifford = random_clifford(num_qubits=circuit.num_qubits, seed=seed)\n",
    "        cir = circuit.compose(clifford.to_circuit())\n",
    "        cir.measure_all()\n",
    "        circuits.append(cir)\n",
    "        unitaries.append(clifford.to_matrix())\n",
    "\n",
    "    return circuits, unitaries\n",
    "\n",
    "\n",
    "def estimate_fidelity_from_shadow(unitaries, measured_bitstrings, target_state):\n",
    "    \"\"\"Fidelity estimation with classical shadows\n",
    "\n",
    "    Implemented as per Approximate complex amplitude encoding algorithm and its application to data classification problems.\n",
    "    Mitsuda et al. https://arxiv.org/abs/2211.13039 (page 2, equation (10))\"\"\"\n",
    "\n",
    "    measured_bitstrings = [np.matrix(b) for b in measured_bitstrings]\n",
    "    unitaries = [np.matrix(u) for u in unitaries]\n",
    "    target_state = np.matrix(target_state)\n",
    "\n",
    "    n_shots = len(measured_bitstrings)\n",
    "    n_qubits = np.log2(target_state.shape[1])\n",
    "    observable = target_state.T @ np.conj(target_state)\n",
    "\n",
    "    fidelity = 0\n",
    "    factor = 2 ** n_qubits + 1\n",
    "    for i in range(n_shots):\n",
    "        product = np.conj(measured_bitstrings[i]) @ (unitaries[i] @ observable @ unitaries[i].H) @ measured_bitstrings[\n",
    "            i].T\n",
    "        cur_fid = factor * product - 1\n",
    "        # print(f\"{cur_fid} -- {measured_bitstrings[i]}\")\n",
    "        fidelity += cur_fid\n",
    "\n",
    "    fidelity = fidelity / n_shots  # /(2**n_qubits)\n",
    "    fidelity = np.abs(np.sum(fidelity))\n",
    "    return fidelity\n",
    "\n",
    "\n",
    "\n",
    "\n",
    "\n",
    "def generate_hermitian(n=2, a_range=(-5, 5), complex=True, sparsity=None):\n",
    "    shape = (2 ** n, 2 ** n)\n",
    "\n",
    "    # generate random matrix\n",
    "    matrix = generate_matrix(shape, a_range, complex, sparsity)\n",
    "\n",
    "    # make it hermitian\n",
    "    for i in range(shape[0]):\n",
    "        for j in range(shape[1]):\n",
    "            if i == j:\n",
    "                # values on diagonal must be real\n",
    "                matrix[i, j] = np.real(matrix[i, j])\n",
    "            if i > j:\n",
    "                # values below diagonal must be conjugate of corresponding values above diagonal\n",
    "                matrix[i, j] = np.conjugate(matrix[j, i])\n",
    "\n",
    "    return matrix\n",
    "\n",
    "\n",
    "def generate_matrix(shape=(2, 2), a_range=(-5, 5), complex=True, sparsity=None):\n",
    "    # generate uniform random (complex) matrix\n",
    "\n",
    "    matrix = np.random.uniform(*a_range, shape)\n",
    "    if complex:\n",
    "        matrix = matrix + 1.j * np.random.uniform(*a_range, shape)\n",
    "    # apply sparsity\n",
    "    if sparsity:\n",
    "        for i in range(shape[0]):\n",
    "            for j in range(shape[1]):\n",
    "                matrix[i, j] = np.random.choice([0, matrix[i, j]], p=[sparsity, 1 - sparsity])\n",
    "\n",
    "    return np.matrix(matrix)\n",
    "\n",
    "\n",
    "def power_method(matrix, num_iterations=10):  # by power iteration\n",
    "    # choose random initial vector\n",
    "    bk = np.random.rand(matrix.shape[1]) + 1.j * np.random.rand(matrix.shape[1])\n",
    "    bk = np.matrix(bk).T\n",
    "\n",
    "    for i in range(num_iterations):\n",
    "        bk1 = np.dot(matrix, bk)\n",
    "        bk = bk1 / np.linalg.norm(bk1)\n",
    "\n",
    "    return bk\n",
    "\n",
    "\n",
    "def inverse_power_method(matrix, shift=0, num_iterations=10):\n",
    "    inv_matrix = np.linalg.inv(matrix - shift * np.identity(matrix.shape[0]))\n",
    "    return power_method(inv_matrix, num_iterations)\n",
    "\n",
    "\n",
    "def get_gershgorins(matrix, draw=False):\n",
    "    centers, radii = [], []\n",
    "    for i in range(matrix.shape[0]):\n",
    "        centers.append(matrix[i, i])\n",
    "        radii.append(np.sum([np.abs(matrix[i, j]) if j is not i else 0 for j in range(matrix.shape[0])]))\n",
    "    return centers, radii\n",
    "\n",
    "\n",
    "def get_gershgorin_extrema(matrix):\n",
    "    centers, radii = get_gershgorins(matrix, draw=False)\n",
    "    min_bound = min(np.subtract(np.real(centers), radii))\n",
    "    max_bound = max(np.add(np.real(centers), radii))\n",
    "    return min_bound, max_bound\n",
    "\n",
    "\n",
    "\n",
    "def main():\n",
    "    # 1. classical: approximate solution\n",
    "    approx_iterations = 3  # for inverse power method to obtain approx eigenvector\n",
    "    shift = get_gershgorin_extrema(operator_matrix)[0]\n",
    "    approx_eigenstate = inverse_power_method(operator_matrix, shift=shift, num_iterations=approx_iterations).T.tolist()[\n",
    "        0]\n",
    "\n",
    "    # 2. VQA: pre-train ansatz with ACAE\n",
    "    # 2.1. circuit generation\n",
    "    n_shadows = 100\n",
    "    problem_size = int(np.log2(len(operator_matrix)))\n",
    "    ansatz = EfficientSU2(num_qubits=problem_size, reps=2)\n",
    "    meas_circuits, unitaries = prepare_meas_circuits(ansatz, n_shadows, seed=seed)\n",
    "\n",
    "    # 2.2. optimize (ACAE)\n",
    "    initial_param_values = np.random.uniform(-np.pi, np.pi, size=len(ansatz.parameters))\n",
    "    print(initial_param_values)\n",
    "    backend = Aer.get_backend(\"statevector_simulator\")\n",
    "\n",
    "    def objective(x):\n",
    "        final_meas_circuits = [c.assign_parameters(x) for c in meas_circuits]\n",
    "        job = execute(final_meas_circuits, backend=backend, shots=1, seed_transpiler=seed, seed_simulator=seed)\n",
    "        res = job.result()\n",
    "        counts = [res.get_counts(i) for i, c in enumerate(final_meas_circuits)]\n",
    "        bs = [Statevector.from_label(list(cnt.keys())[0]) for cnt in counts]\n",
    "        obj_value = -estimate_fidelity_from_shadow(unitaries, bs, approx_eigenstate)\n",
    "        # print(f\"current params = {list(x)}\")\n",
    "        print(\"ACAE fidelity\", obj_value)\n",
    "        return obj_value\n",
    "\n",
    "    # start messung\n",
    "    res = minimize(objective, initial_param_values, method=\"COBYLA\",\n",
    "                   options=({\"rhobeg\": np.pi / 4, \"maxiter\": 20, \"tol\": np.pi / (2 ** 6)}))\n",
    "    # ende messung\n",
    "    print(res)\n",
    "\n",
    "    # Needed?\n",
    "    # 3. VQA: VQE with parameter initialization from ACAE\n",
    "    # 3.1. circuit generation\n",
    "    vqe = VQE(ansatz=ansatz)  # reuse same ansatz\n",
    "    vqe_circuits = vqe.construct_circuit(ansatz.parameters, PauliSumOp(pauli_operator))\n",
    "    pauli_lists = pauli_operator.paulis.group_commuting(\n",
    "        qubit_wise=True)  # contains the respective pauli operators that can be estimated from the measument outcomes of each circuit\n",
    "    print(vqe_circuits)\n",
    "\n",
    "    # 3.2. optimize (VQE)\n",
    "    initial_param_values = res.x  # use parameterization obtained from pre-training\n",
    "\n",
    "    def objective(x):\n",
    "        final_meas_circuits = [c.assign_parameters(x) for c in vqe_circuits]\n",
    "        job = execute(final_meas_circuits, backend=backend, seed_transpiler=seed, seed_simulator=seed)\n",
    "        res = job.result()\n",
    "\n",
    "        exp = 0.0\n",
    "        for i in range(len(final_meas_circuits)):\n",
    "            paulis = pauli_lists[i]\n",
    "            counts = res.get_counts(i)\n",
    "\n",
    "            # compute contribution of each pauli operator (p_exp)\n",
    "            for pauli in paulis:\n",
    "                p_exp = 0.0\n",
    "                sum_shots = sum([v for _, v in counts.items()])  # find out how many shots were executed in total\n",
    "                for k, v in counts.items():\n",
    "                    k_pruned = [b for j, b in enumerate(k) if str(pauli)[j] != 'I']  # remove bits where operator is I\n",
    "                    p_exp += (-1) ** (k_pruned.count('1')) * v / sum_shots\n",
    "\n",
    "                # add to overall expectation weighted by coefficient for respective pauli operator\n",
    "                idx = pauli_operator.paulis.settings[\"data\"].index(str(pauli))\n",
    "                exp += pauli_operator.coeffs[idx] * p_exp\n",
    "\n",
    "        print(\"VQE expectation\", exp.real)\n",
    "        return exp.real\n",
    "\n",
    "    res = minimize(objective, initial_param_values, method=\"COBYLA\", options={\"rhobeg\": 3 * np.pi / 16, \"maxiter\": 50})\n",
    "    print(res)\n",
    "\n",
    "\n",
    "main()\n",
    "\n",
    "### Qiskit's VQE implementation for reference\n",
    "# from qiskit_aer.primitives import Estimator as AerEstimator\n",
    "# from qiskit_algorithms.minimum_eigensolvers import VQE\n",
    "# from qiskit_algorithms.optimizers import COBYLA\n",
    "# noiseless_estimator = AerEstimator(run_options={\"seed\": seed, \"shots\": None},)\n",
    "# optimizer = COBYLA(maxiter=50, rhobeg=3*np.pi/16)\n",
    "# vqe = VQE(noiseless_estimator, ansatz, optimizer=optimizer, initial_point=initial_param_values)\n",
    "# result = vqe.compute_minimum_eigenvalue(operator=pauli_operator)\n",
    "# print(result)\n",
    "# objective(result.optimal_parameters)\n",
    "\n",
    "\n",
    "\n",
    "\n",
    "\n"
   ]
  }
 ],
 "metadata": {
  "colab": {
   "provenance": []
  },
  "kernelspec": {
   "display_name": "Python 3 (ipykernel)",
   "language": "python",
   "name": "python3"
  },
  "language_info": {
   "codemirror_mode": {
    "name": "ipython",
    "version": 3
   },
   "file_extension": ".py",
   "mimetype": "text/x-python",
   "name": "python",
   "nbconvert_exporter": "python",
   "pygments_lexer": "ipython3",
   "version": "3.11.7"
  }
 },
 "nbformat": 4,
 "nbformat_minor": 4
}
